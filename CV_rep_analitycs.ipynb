{
  "nbformat": 4,
  "nbformat_minor": 0,
  "metadata": {
    "colab": {
      "provenance": [],
      "toc_visible": true
    },
    "kernelspec": {
      "name": "python3",
      "display_name": "Python 3"
    },
    "language_info": {
      "name": "python"
    }
  },
  "cells": [
    {
      "cell_type": "markdown",
      "source": [
        "# Environment Set Up"
      ],
      "metadata": {
        "id": "tdICsVZ5RISA"
      }
    },
    {
      "cell_type": "code",
      "execution_count": null,
      "metadata": {
        "id": "CR2YaOYNYVrD"
      },
      "outputs": [],
      "source": [
        "# G drive connection\n",
        "# learn: to access a shared file just put a shortcut in mi drive\n",
        "\n",
        "from google.colab import drive\n",
        "drive.mount('/content/drive')"
      ]
    },
    {
      "cell_type": "code",
      "source": [
        "# Libraries import\n",
        "\n",
        "import pandas as pd\n",
        "from tabulate import tabulate\n",
        "from matplotlib import pyplot as plt\n",
        "import seaborn as sns"
      ],
      "metadata": {
        "id": "QRPmur-bm2m9"
      },
      "execution_count": null,
      "outputs": []
    },
    {
      "cell_type": "markdown",
      "source": [
        "# Connection test"
      ],
      "metadata": {
        "id": "YxF98MaXRS-t"
      }
    },
    {
      "cell_type": "code",
      "source": [
        "# Verify reading folder\n",
        "\n",
        "!ls '/content/drive/MyDrive/andresrokp/Thesis Juandavid/'"
      ],
      "metadata": {
        "id": "b9HQQm3jeTgh"
      },
      "execution_count": null,
      "outputs": []
    },
    {
      "cell_type": "code",
      "source": [
        "# Hola mundo\n",
        "\n",
        "file_path = '/content/drive/MyDrive/andresrokp/Thesis Juandavid/Companies.dta'\n",
        "df = pd.read_stata(file_path)\n",
        "print('\\n---\\ninfo\\n---')\n",
        "df.info()  # Show column\n",
        "print('\\n---\\ndescribe\\n---')\n",
        "print(df.describe())  # Show very basic stadistics\n",
        "print('\\n---\\nhead\\n---')\n",
        "df.head()  # Show first rows\n"
      ],
      "metadata": {
        "id": "eyJd4dV8e12V"
      },
      "execution_count": null,
      "outputs": []
    },
    {
      "cell_type": "markdown",
      "source": [
        "# Helpers Functions"
      ],
      "metadata": {
        "id": "bw39NIBNcBkk"
      }
    },
    {
      "cell_type": "code",
      "source": [
        "def akap_pretty_print_df(df, rows):\n",
        "\n",
        "    rows_head = rows\n",
        "    rows_tail = rows\n",
        "\n",
        "    if rows < 0:\n",
        "      rows_head = -rows * 10\n",
        "      rows_tail = 0\n",
        "\n",
        "    columns = df.columns.tolist()\n",
        "    ellipsis_values = ['...' for _ in columns]\n",
        "    ellipsis_row = pd.DataFrame([ellipsis_values], columns=columns)\n",
        "    head = df.head(rows_head)\n",
        "    tail = df.tail(rows_tail)\n",
        "    payload = tabulate(pd.concat([head,ellipsis_row,tail]),headers='keys', tablefmt='pretty')\n",
        "    print( payload )\n",
        "    return payload\n",
        "\n",
        "def akap_txt_file_writer(df, file_name, rows):\n",
        "  file_path = f'/content/drive/MyDrive/andresrokp/Thesis Juandavid/{file_name}.txt'\n",
        "  columns = df.columns.tolist()\n",
        "  with open(file_path,'w') as txt_file:\n",
        "    txt_file.write(akap_pretty_print_df(df, rows))"
      ],
      "metadata": {
        "id": "Mbtem-UOcRCm"
      },
      "execution_count": null,
      "outputs": []
    },
    {
      "cell_type": "markdown",
      "source": [
        "# Dataset loading"
      ],
      "metadata": {
        "id": "0wTT-YBRRfG1"
      }
    },
    {
      "cell_type": "code",
      "source": [
        "# File paths\n",
        "path_companies_file = '/content/drive/MyDrive/andresrokp/Thesis Juandavid/Companies.dta'\n",
        "path_ipo_m_a_file = '/content/drive/MyDrive/andresrokp/Thesis Juandavid/IPO_M&A.dta'\n",
        "path_investments_file = '/content/drive/MyDrive/andresrokp/Thesis Juandavid/Investments.dta'\n",
        "path_investors_file = '/content/drive/MyDrive/andresrokp/Thesis Juandavid/Investors.dta'\n",
        "path_vico = '/content/drive/MyDrive/andresrokp/Thesis Juandavid/VICO5.0_Investors_Reputation_withOldIDs.dta'\n",
        "\n",
        "# Read Companies data\n",
        "print(\"Reading Companies data...\")\n",
        "df_companies = pd.read_stata(path_companies_file)\n",
        "print(\"\\nCompanies Data Info:\")\n",
        "df_companies.info()\n",
        "akap_pretty_print_df(df_companies, 5)\n",
        "\n",
        "# Read IPO M&A data\n",
        "print(\"\\nReading IPO M&A data...\")\n",
        "df_ipo_ma = pd.read_stata(path_ipo_m_a_file)\n",
        "print(\"\\nIPO M&A Data Info:\")\n",
        "df_ipo_ma.info()\n",
        "akap_pretty_print_df(df_ipo_ma, 5)\n",
        "\n",
        "# Read Investors data\n",
        "print(\"\\nReading Investors data...\")\n",
        "df_investors = pd.read_stata(path_investors_file)\n",
        "# cleaning dejar solo VCs\n",
        "print(\"\\Cleaning Investors data...\")\n",
        "df_investors_clean = df_investors[df_investors['InvestorType'] != 'BA']\n",
        "df_investors_clean = df_investors_clean[df_investors_clean['InvestorType'] != 'Other']\n",
        "print(\"\\nInvestors Clean Data Info:\")\n",
        "df_investors_clean.info()\n",
        "akap_pretty_print_df(df_investors_clean, 5)\n",
        "\n",
        "# Read Investments data\n",
        "print(\"\\nReading Investments data...\")\n",
        "df_investments = pd.read_stata(path_investments_file)\n",
        "df_investments_columns = df_investments.columns.tolist()\n",
        "df_investments = pd.merge(df_investments, df_investors, on='InvestorID', how='left')\n",
        "print(\"\\nCleaning Investments data...\")\n",
        "df_investments_merge_clean = df_investments[df_investments['InvestorType'] != 'BA']\n",
        "df_investments_merge_clean = df_investments_merge_clean[df_investments_merge_clean['InvestorType'] != 'Other']\n",
        "df_investments_merge_clean = df_investments_merge_clean[~df_investments_merge_clean['InvestorID'].str.contains('missing')]\n",
        "df_investments_clean = df_investments_merge_clean[df_investments_columns]\n",
        "print(\"\\nInvestments Clean Data Info:\")\n",
        "df_investments_clean.info()\n",
        "akap_pretty_print_df(df_investments_clean, 5)\n",
        "\n",
        "# Read VICO5 data\n",
        "# print(\"\\nReading vico5_BNT data...\")\n",
        "# df_vico5_BNT = pd.read_stata(path_vico)\n",
        "# print(\"\\nVICO5 Data Info:\")\n",
        "# df_vico5_BNT.info()\n",
        "# print(\"Number of Rows in vico5_BNT Data:\", len(df_vico5_BNT))"
      ],
      "metadata": {
        "id": "n_DSo757TzBp"
      },
      "execution_count": null,
      "outputs": []
    },
    {
      "cell_type": "markdown",
      "source": [
        "# Interesting table builder"
      ],
      "metadata": {
        "id": "VGgvFfnLPPgM"
      }
    },
    {
      "cell_type": "code",
      "source": [
        "'''\n",
        "\n",
        "'''\n",
        "\n",
        "# MERGING\n",
        "print('\\n\\n\\n----------MERGING----------')\n",
        "# df_investments_clean >>InvestorID>> df_investors\n",
        "df_merge_investments_investors = pd.merge(df_investments_clean, \\\n",
        "                                          df_investors_clean, \\\n",
        "                                          on='InvestorID', \\\n",
        "                                          how='left')\n",
        "print( '\\n<o>\\n info df_merge_investments_investors.info() \\n' )\n",
        "df_merge_investments_investors.info()\n",
        "akap_pretty_print_df(df_merge_investments_investors, 10)\n",
        "# >> companies ON CompanyID\n",
        "df_merge_investments_investors_companies = pd.merge(df_merge_investments_investors, \\\n",
        "                                           df_companies, \\\n",
        "                                           on='CompanyID', \\\n",
        "                                           how='left')\n",
        "print( '\\n<o>\\n info df_merge_investments_investors_companies.info() \\n' )\n",
        "df_merge_investments_investors_companies.info()\n",
        "akap_pretty_print_df(df_merge_investments_investors_companies, 10)\n",
        "# >> aipió má\n",
        "df_merge_investments_investors_companies_ipoma = pd.merge(df_merge_investments_investors_companies, \\\n",
        "                                                 df_ipo_ma, \\\n",
        "                                                 on='CompanyID', \\\n",
        "                                                 how='left')\n",
        "print( '\\n<o>\\n info df_merge_investments_investors_companies_ipoma.info() \\n' )\n",
        "df_merge_investments_investors_companies_ipoma.info()\n",
        "akap_pretty_print_df(df_merge_investments_investors_companies_ipoma, 10)\n",
        "\n",
        "\n",
        "\n",
        "# LEAN df // STANDARIZE var NAME\n",
        "print('\\n\\n\\n----------LEAN df // STANDARIZE var NAME----------')\n",
        "df_interesante_1 = df_merge_investments_investors[['CompanyID','InvestorID', 'InvestorName', 'InvestorNation', 'InvestorType','TotalEquityInvested_round_thEUR']]\n",
        "print( '\\n<o>\\n info df_interesante_1.info() \\n' )\n",
        "df_interesante_1.info()\n",
        "akap_txt_file_writer(df_interesante_1, 'df_merge_investments_investors', 10)\n",
        "\n",
        "df_interesante_2 = df_merge_investments_investors_companies[['InvestmentDate','CompanyID','CompanyNUTS3Name','NACERev2corcodesdes','FirstInvestmentYear','CompanyNation','TotalEquityInvested_round_thEUR','InvestorID','InvestorName','InvestorType','InvestorNation']]\n",
        "print( '\\n<o>\\n info df_interesante_2.info() \\n' )\n",
        "df_interesante_2.info()\n",
        "akap_txt_file_writer(df_interesante_2, 'df_merge_investments_investors_companies', 10)\n",
        "\n",
        "df_interesante_3 = df_merge_investments_investors_companies_ipoma[['InvestmentDate','CompanyID','CompanyNUTS3Name','NACERev2corcodesdes','FirstInvestmentYear','CompanyNation','TotalEquityInvested_round_thEUR','InvestorID','InvestorName','InvestorType','InvestorNation','IPO_dummy','IPODate','IPODealvaluethEUR','Acquisition_dummy','AcqDate','AcqDealvaluethEUR']]\n",
        "print( '\\n<o>\\n info df_interesante_3.info() \\n' )\n",
        "df_interesante_3.info()\n",
        "akap_txt_file_writer(df_interesante_3, 'df_merge_investments_investors_companies_ipoma', 300)\n",
        "\n",
        "# readaptacion\n",
        "# df_interesante = df_interesante_2\n",
        "\n",
        "# AGRUPAMIENTOS\n",
        "# print('\\n\\n\\n----------AGRUPAMIENTOS----------')\n",
        "# df_interesante_grouped = df_interesante.groupby(['InvestorID', 'InvestorName', 'InvestorNation', 'InvestorType']) \\\n",
        "#                                          .size() \\\n",
        "#                                          .reset_index(name='InvestorCount') \\\n",
        "#                                          .sort_values(by='InvestorCount', ascending=False) \\\n",
        "#                                          .reset_index(drop=True)\n",
        "# print( '\\n<o>\\n info df_interesante_1_grouped.info() \\n' )\n",
        "# df_interesante_grouped.info()\n",
        "# akap_pretty_print_df(df_interesante_grouped, 10)\n",
        "\n",
        "\n",
        "# MOCHADA TOP 25\n",
        "# print('\\n\\n\\n----------MOCHADA TOP 25----------')\n",
        "# print(\"\\n<o>\\n info df_merge_investments_investors_grouped_top25 conteo de apariciones TOP 25% \\n\")\n",
        "# df_interesante_grouped_top25 = df_interesante_grouped.head(round(len(df_interesante_grouped)*0.25))\n",
        "# akap_pretty_print_df(df_interesante_grouped_top25, 10)"
      ],
      "metadata": {
        "id": "O-aAUC8RM3qT"
      },
      "execution_count": null,
      "outputs": []
    },
    {
      "cell_type": "code",
      "source": [
        "df_interesante_1_grouped"
      ],
      "metadata": {
        "id": "drqRFHjphXwI"
      },
      "execution_count": null,
      "outputs": []
    },
    {
      "source": [
        "df_interesante_1_grouped.groupby('InvestorNation').size().plot(kind='barh', color=sns.palettes.mpl_palette('Dark2'))\n",
        "plt.gca().spines[['top', 'right',]].set_visible(False)\n",
        "plt.show()\n",
        "print('.')\n",
        "df_interesante_1_grouped.groupby('InvestorType').size().plot(kind='barh', color=sns.palettes.mpl_palette('Dark2'))\n",
        "plt.gca().spines[['top', 'right',]].set_visible(False)\n",
        "plt.show()\n",
        "print('.')\n",
        "df_interesante_1_grouped['InvestorCount'].plot(kind='line', figsize=(8, 4), title='InvestorCount')\n",
        "plt.gca().spines[['top', 'right']].set_visible(False)\n",
        "plt.show()\n",
        "print('.')"
      ],
      "cell_type": "code",
      "metadata": {
        "id": "yMFDktlmjvto"
      },
      "execution_count": null,
      "outputs": []
    },
    {
      "cell_type": "markdown",
      "source": [
        "# Modelo 4: Hochberg, Ljungqvist, and Lu (2007)."
      ],
      "metadata": {
        "id": "sU6TjF9SO5U1"
      }
    },
    {
      "cell_type": "code",
      "source": [
        "'''\n",
        " #   Column                           Non-Null Count  Dtype\n",
        "---  ------                           --------------  -----\n",
        " 0   InvestmentDate                   71077 non-null  datetime64[ns]\n",
        " 1   CompanyID                        71077 non-null  object\n",
        " 2   CompanyNUTS3Name                 71077 non-null  object\n",
        " 3   NACERev2corcodesdes              71077 non-null  object\n",
        " 4   FirstInvestmentYear              71077 non-null  float32\n",
        " 5   CompanyNation                    71077 non-null  object\n",
        " 6   TotalEquityInvested_round_thEUR  53320 non-null  float64\n",
        " 7   InvestorID                       71077 non-null  object\n",
        " 8   InvestorName                     71077 non-null  object\n",
        " 9   InvestorType                     71077 non-null  object\n",
        " 10  InvestorNation                   71077 non-null  object\n",
        " 11  IPO_dummy                        10064 non-null  float32\n",
        " 12  IPODate                          2344 non-null   datetime64[ns]\n",
        " 13  IPODealvaluethEUR                10064 non-null  object\n",
        " 14  Acquisition_dummy                10064 non-null  float32\n",
        " 15  AcqDate                          8278 non-null   datetime64[ns]\n",
        " 16  AcqDealvaluethEUR                10064 non-null  object\n",
        " '''\n",
        "\n",
        "df_modelo_4 = df_interesante_3\n",
        "\n",
        "# LEAVE ONLY IPO\n",
        "investments_end_in_ipo = df_modelo_4[df_modelo_4['IPO_dummy'] == 1]\n",
        "print( '\\n<o>\\n info investments_end_in_ipo.info() \\n' )\n",
        "investments_end_in_ipo.info()\n",
        "akap_pretty_print_df(investments_end_in_ipo, 20)\n",
        "\n",
        "# LEAVE ONLY LAST 5 YEARS IPO\n",
        "\n",
        "print('\\n\\n\\n----------AGRUPAMIENTOS----------')\n",
        "investments_end_in_ipo_grouped_by_investors \\\n",
        "  = investments_end_in_ipo.groupby(['InvestorID', 'InvestorName', 'InvestorNation', 'InvestorType']) \\\n",
        "                          .size() \\\n",
        "                          .reset_index(name='InvestorCount') \\\n",
        "                          .sort_values(by='InvestorCount', ascending=False) \\\n",
        "                          .reset_index(drop=True)\n",
        "print( '\\n<o>\\n info investments_end_in_ipo_grouped_by_investors.info() \\n' )\n",
        "investments_end_in_ipo_grouped_by_investors.info()\n",
        "akap_pretty_print_df(investments_end_in_ipo_grouped_by_investors, -5)\n",
        "\n",
        "#['InvestorName', 'InvestorNation', 'InvestorType', 'CompanyNUTS3Name', 'CompanyNation', 'NACERev2corcodesdes']\n",
        "investments_end_in_ipo_grouped_by_investors_and_company \\\n",
        "  = investments_end_in_ipo.groupby(['InvestorName', 'CompanyNUTS3Name']) \\\n",
        "                          .size() \\\n",
        "                          .reset_index(name='InvestorCount') \\\n",
        "                          .sort_values(by='InvestorCount', ascending=False) \\\n",
        "                          .reset_index(drop=True)\n",
        "print( '\\n<o>\\n info investments_end_in_ipo_grouped_by_investors_and_company.info() \\n' )\n",
        "investments_end_in_ipo_grouped_by_investors_and_company.info()\n",
        "akap_pretty_print_df(investments_end_in_ipo_grouped_by_investors_and_company, 10)"
      ],
      "metadata": {
        "id": "AObqLJNXO2ux"
      },
      "execution_count": null,
      "outputs": []
    },
    {
      "cell_type": "markdown",
      "source": [
        "# Otros"
      ],
      "metadata": {
        "id": "-epujBd-mzDv"
      }
    },
    {
      "cell_type": "code",
      "source": [
        "# Check runtime vars\n",
        "# dir() keeps trak of the declared variables in the runtime\n",
        "\n",
        "[var for var in dir() if '_' != var[0]]"
      ],
      "metadata": {
        "id": "8fQhUrfhbo6l"
      },
      "execution_count": null,
      "outputs": []
    },
    {
      "cell_type": "code",
      "source": [
        "investor_count = df_investments['InvestorID'].value_counts().get('VCInvestor002335', 0)\n",
        "investor_count"
      ],
      "metadata": {
        "id": "1ouPfFN4m18Y"
      },
      "execution_count": null,
      "outputs": []
    }
  ]
}