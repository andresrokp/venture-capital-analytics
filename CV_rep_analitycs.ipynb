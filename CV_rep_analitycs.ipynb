{
  "nbformat": 4,
  "nbformat_minor": 0,
  "metadata": {
    "colab": {
      "provenance": []
    },
    "kernelspec": {
      "name": "python3",
      "display_name": "Python 3"
    },
    "language_info": {
      "name": "python"
    }
  },
  "cells": [
    {
      "cell_type": "code",
      "execution_count": null,
      "metadata": {
        "id": "CR2YaOYNYVrD"
      },
      "outputs": [],
      "source": [
        "# G drive connection\n",
        "# learn: to access a shared file just put a shortcut in mi drive\n",
        "\n",
        "from google.colab import drive\n",
        "drive.mount('/content/drive')"
      ]
    },
    {
      "cell_type": "code",
      "source": [
        "# env set up\n",
        "\n",
        "import pandas as pd"
      ],
      "metadata": {
        "id": "QRPmur-bm2m9"
      },
      "execution_count": null,
      "outputs": []
    },
    {
      "cell_type": "code",
      "source": [
        "# Verify que read esas vergas\n",
        "\n",
        "!ls '/content/drive/MyDrive/andresrokp/Thesis Juandavid/'"
      ],
      "metadata": {
        "id": "b9HQQm3jeTgh"
      },
      "execution_count": null,
      "outputs": []
    },
    {
      "cell_type": "code",
      "source": [
        "# Hola mundo a una de esas vergas\n",
        "\n",
        "file_path = '/content/drive/MyDrive/andresrokp/Thesis Juandavid/Companies.dta'\n",
        "df = pd.read_stata(file_path)\n",
        "print('\\n---\\ninfo\\n---')\n",
        "df.info()  # Show column\n",
        "print('\\n---\\ndescribe\\n---')\n",
        "print(df.describe())  # Show very basic stadistics\n",
        "print('\\n---\\nhead\\n---')\n",
        "df.head()  # Show first rows\n"
      ],
      "metadata": {
        "id": "eyJd4dV8e12V"
      },
      "execution_count": null,
      "outputs": []
    },
    {
      "cell_type": "code",
      "source": [
        "# 1er modelo:\n",
        "\n",
        "# traer tablas\n",
        "file_path = '/content/drive/MyDrive/andresrokp/Thesis Juandavid/Investments.dta'\n",
        "file_path_2 = '/content/drive/MyDrive/andresrokp/Thesis Juandavid/Investors.dta'\n",
        "\n",
        "df_Investments_bnt = pd.read_stata(file_path)\n",
        "print( 'df_Investments_bnt.info()', df_Investments_bnt.info() )\n",
        "print( 'len (df_Investments)', len(df_Investments_bnt) )\n",
        "df_Investors = pd.read_stata(file_path_2)\n",
        "print( 'df_Investors.info()', df_Investors.info() )\n",
        "print( 'len (df_Investors)', len(df_Investors) )\n",
        "\n",
        "# Left JOIN de las tablas según InvestorID\n",
        "merged_investments_investors = pd.merge(df_Investments_bnt, df_Investors, on='InvestorID', how='left')\n",
        "# print(merged_investments_investors.head(5))\n",
        "\n",
        "print('-\\n--\\n-')\n",
        "\n",
        "# cleaning dejar solo VCs\n",
        "df_Investments_merge_clean = merged_investments_investors[merged_investments_investors['InvestorType'] != 'BA']\n",
        "df_Investments_merge_clean = df_Investments_merge_clean[df_Investments_merge_clean['InvestorType'] != 'Other']\n",
        "df_Investments_merge_clean = df_Investments_merge_clean[~df_Investments_merge_clean['InvestorID'].str.contains('missing')]\n",
        "print( 'df_Investments_merge_clean.info()', df_Investments_merge_clean.info() )\n",
        "print( 'len (df_Investments_merge_clean)', len(df_Investments_merge_clean) )\n",
        "# print(df_Investments_no_BAs.head(5))\n",
        "\n",
        "\n",
        "col_InvestorID_clean = df_Investments_merge_clean['InvestorID']\n",
        "# col_InvestorID_clean = pd.merge(df_Investments_bnt, df_Investors, on='InvestorID', how='left')['InvestorName']\n",
        "# print(df_Investments_clean.head(5))\n",
        "\n",
        "numberOf_Unique_InvestorsClean = len(col_InvestorID_clean.unique())\n",
        "print( 'numberOf_Unique_InvestorsClean', numberOf_Unique_InvestorsClean )\n",
        "\n",
        "uniqueInvestorsAppereanceCount = col_InvestorID_clean.value_counts()\n",
        "print('uniqueInvestorsAppereanceCount\\n', uniqueInvestorsAppereanceCount)\n",
        "print( 'len( uniqueInvestorsAppereanceCount )', len( uniqueInvestorsAppereanceCount ) )\n",
        "print( 'uniqueInvestorsAppereanceCount', uniqueInvestorsAppereanceCount )\n",
        "\n",
        "\n",
        "print(\"\\n\\nInvestorName_Final conteo de apariciones TOP 25%\")\n",
        "col_InvestorID_clean.value_counts().head(round(numberOf_Unique_InvestorsClean*0.25))\n",
        "\n",
        "# print('\\n---\\ninfo\\n---')\n",
        "# df_Investors_Reputation.info()  # Show column\n",
        "# print('\\n---\\ndescribe\\n---')\n",
        "# print(df_Investors_Reputation.describe())  # Show very basic stadistics\n",
        "# print('\\n---\\nhead\\n---')\n",
        "# df_Investors_Reputation.head()  # Show first rows\n",
        "# print(\"\\n\\nInvestorName_Final missing_values\")\n",
        "# print( col_investor_name.isnull().sum() )\n",
        "\n",
        "# print(\"\\n\\nInvestorName_Final unique\")\n",
        "# print( col_investor_name.unique() )"
      ],
      "metadata": {
        "id": "yxI7KLlh0KHQ"
      },
      "execution_count": null,
      "outputs": []
    },
    {
      "cell_type": "code",
      "source": [
        "# Exploración de tipo VC\n",
        "\n",
        "file_path = '/content/drive/MyDrive/andresrokp/Thesis Juandavid/Investors.dta'\n",
        "df_Investors = pd.read_stata(file_path)\n",
        "\n",
        "print('\\n---\\ninfo\\n---')\n",
        "df_Investors.info()  # Show column\n",
        "print('\\n---\\ndescribe\\n---')\n",
        "print(df_Investors.describe())  # Show very basic stadistics\n",
        "print('\\n---\\nhead\\n---')\n",
        "df_Investors.head()  # Show first rows\n",
        "\n",
        "col_investor_name = df_Investors['InvestorType']\n",
        "\n",
        "\n",
        "# print(\"\\n\\nInvestorName_Final missing_values\")\n",
        "# print( col_investor_name.isnull().sum() )\n",
        "\n",
        "# print(\"\\n\\nInvestorName_Final unique inversores\")\n",
        "# print( col_investor_name.unique() )\n",
        "# numberOfUniqueInvestors = len(col_investor_name.unique())\n",
        "# print( numberOfUniqueInvestors )\n",
        "\n",
        "# esto es para comparar loque dice el pdf en cantidad de BA's y VC'c\n",
        "print(\"\\n\\nInvestorName_Final conteo de apariciones tipo de inversor\")\n",
        "print( len(col_investor_name.value_counts() ) )\n",
        "print( col_investor_name.value_counts() )"
      ],
      "metadata": {
        "id": "wFhz4tPs44uq"
      },
      "execution_count": null,
      "outputs": []
    }
  ]
}