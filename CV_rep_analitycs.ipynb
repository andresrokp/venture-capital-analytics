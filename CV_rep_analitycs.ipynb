{
  "nbformat": 4,
  "nbformat_minor": 0,
  "metadata": {
    "colab": {
      "provenance": [],
      "toc_visible": true
    },
    "kernelspec": {
      "name": "python3",
      "display_name": "Python 3"
    },
    "language_info": {
      "name": "python"
    }
  },
  "cells": [
    {
      "cell_type": "markdown",
      "source": [
        "# Environment Set Up"
      ],
      "metadata": {
        "id": "tdICsVZ5RISA"
      }
    },
    {
      "cell_type": "code",
      "execution_count": null,
      "metadata": {
        "id": "CR2YaOYNYVrD"
      },
      "outputs": [],
      "source": [
        "# G drive connection\n",
        "# learn: to access a shared file just put a shortcut in mi drive\n",
        "\n",
        "from google.colab import drive\n",
        "drive.mount('/content/drive')"
      ]
    },
    {
      "cell_type": "code",
      "source": [
        "# Libraries import\n",
        "\n",
        "import pandas as pd\n",
        "from tabulate import tabulate\n",
        "from matplotlib import pyplot as plt\n",
        "import seaborn as sns"
      ],
      "metadata": {
        "id": "QRPmur-bm2m9"
      },
      "execution_count": null,
      "outputs": []
    },
    {
      "cell_type": "markdown",
      "source": [
        "# Connection test"
      ],
      "metadata": {
        "id": "YxF98MaXRS-t"
      }
    },
    {
      "cell_type": "code",
      "source": [
        "# Verify reading folder\n",
        "\n",
        "!ls '/content/drive/MyDrive/andresrokp/Thesis Juandavid/'"
      ],
      "metadata": {
        "id": "b9HQQm3jeTgh"
      },
      "execution_count": null,
      "outputs": []
    },
    {
      "cell_type": "code",
      "source": [
        "# Hola mundo\n",
        "\n",
        "file_path = '/content/drive/MyDrive/andresrokp/Thesis Juandavid/Companies.dta'\n",
        "df = pd.read_stata(file_path)\n",
        "print('\\n---\\ninfo\\n---')\n",
        "df.info()  # Show column\n",
        "print('\\n---\\ndescribe\\n---')\n",
        "print(df.describe())  # Show very basic stadistics\n",
        "print('\\n---\\nhead\\n---')\n",
        "df.head()  # Show first rows\n"
      ],
      "metadata": {
        "id": "eyJd4dV8e12V"
      },
      "execution_count": null,
      "outputs": []
    },
    {
      "cell_type": "markdown",
      "source": [
        "# Dataset loading"
      ],
      "metadata": {
        "id": "0wTT-YBRRfG1"
      }
    },
    {
      "cell_type": "code",
      "source": [
        "# File paths\n",
        "path_companies_file = '/content/drive/MyDrive/andresrokp/Thesis Juandavid/Companies.dta'\n",
        "path_ipo_m_a_file = '/content/drive/MyDrive/andresrokp/Thesis Juandavid/IPO_M&A.dta'\n",
        "path_investments_file = '/content/drive/MyDrive/andresrokp/Thesis Juandavid/Investments.dta'\n",
        "path_investors_file = '/content/drive/MyDrive/andresrokp/Thesis Juandavid/Investors.dta'\n",
        "path_vico = '/content/drive/MyDrive/andresrokp/Thesis Juandavid/VICO5.0_Investors_Reputation_withOldIDs.dta'\n",
        "\n",
        "# Read Companies data\n",
        "print(\"Reading Companies data...\")\n",
        "df_companies = pd.read_stata(path_companies_file)\n",
        "print(\"\\nCompanies Data Info:\")\n",
        "df_companies.info()\n",
        "\n",
        "# Read IPO M&A data\n",
        "print(\"\\nReading IPO M&A data...\")\n",
        "df_ipo_ma = pd.read_stata(path_ipo_m_a_file)\n",
        "print(\"\\nIPO M&A Data Info:\")\n",
        "df_ipo_ma.info()\n",
        "\n",
        "# Read Investments data\n",
        "print(\"\\nReading Investments data...\")\n",
        "df_investments = pd.read_stata(path_investments_file)\n",
        "print(\"\\nInvestments Data Info:\")\n",
        "df_investments.info()\n",
        "\n",
        "# Read Investors data\n",
        "print(\"\\nReading Investors data...\")\n",
        "df_investors = pd.read_stata(path_investors_file)\n",
        "print(\"\\nInvestors Data Info:\")\n",
        "df_investors.info()\n",
        "\n",
        "# Read VICO5 data\n",
        "print(\"\\nReading vico5_BNT data...\")\n",
        "df_vico5_BNT = pd.read_stata(path_vico)\n",
        "print(\"\\nVICO5 Data Info:\")\n",
        "df_vico5_BNT.info()\n",
        "print(\"Number of Rows in vico5_BNT Data:\", len(df_vico5_BNT))"
      ],
      "metadata": {
        "id": "n_DSo757TzBp"
      },
      "execution_count": null,
      "outputs": []
    },
    {
      "cell_type": "code",
      "source": [
        "'''\n",
        "1st model: Wahal, (2004). Sorensen, (2007)\n",
        "\n",
        "Used tables:\n",
        "'df_investors',\n",
        "'df_vico5_BNT'\n",
        "'''\n",
        "\n",
        "# Left JOIN de las tablas\n",
        "# df_vico5_BNT >>InvestorID>> df_investors\n",
        "merged_investments_investors = pd.merge(df_vico5_BNT, df_investors, on='InvestorID', how='left')\n",
        "\n",
        "print('-\\n--\\n-')\n",
        "\n",
        "# cleaning dejar solo VCs\n",
        "df_Investments_merge_clean = merged_investments_investors[merged_investments_investors['InvestorType'] != 'BA']\n",
        "df_Investments_merge_clean = df_Investments_merge_clean[df_Investments_merge_clean['InvestorType'] != 'Other']\n",
        "df_Investments_merge_clean = df_Investments_merge_clean[~df_Investments_merge_clean['InvestorID'].str.contains('missing')]\n",
        "print( 'df_Investments_merge_clean.info()', df_Investments_merge_clean.info() )\n",
        "print( 'len (df_Investments_merge_clean)', len(df_Investments_merge_clean) )\n",
        "# print(df_Investments_no_BAs.head(5))\n",
        "\n",
        "\n",
        "col_InvestorID_clean = df_Investments_merge_clean['InvestorID']\n",
        "# col_InvestorID_clean = pd.merge(df_Investments_bnt, df_Investors, on='InvestorID', how='left')['InvestorName']\n",
        "# print(df_Investments_clean.head(5))\n",
        "\n",
        "numberOf_Unique_InvestorsClean = len(col_InvestorID_clean.unique())\n",
        "print( 'numberOf_Unique_InvestorsClean', numberOf_Unique_InvestorsClean )\n",
        "\n",
        "uniqueInvestorsAppereanceCount = col_InvestorID_clean.value_counts()\n",
        "print('uniqueInvestorsAppereanceCount\\n', uniqueInvestorsAppereanceCount)\n",
        "print( 'len( uniqueInvestorsAppereanceCount )', len( uniqueInvestorsAppereanceCount ) )\n",
        "print( 'uniqueInvestorsAppereanceCount', uniqueInvestorsAppereanceCount )\n",
        "\n",
        "\n",
        "print(\"\\n\\nInvestorName_Final conteo de apariciones TOP 25%\")\n",
        "col_InvestorID_clean.value_counts().head(round(numberOf_Unique_InvestorsClean*0.25))"
      ],
      "metadata": {
        "id": "yxI7KLlh0KHQ"
      },
      "execution_count": null,
      "outputs": []
    },
    {
      "cell_type": "markdown",
      "source": [
        "# Helpers Functions"
      ],
      "metadata": {
        "id": "bw39NIBNcBkk"
      }
    },
    {
      "cell_type": "code",
      "source": [
        "def akap_pretty_print_df(df, rows):\n",
        "    columns = df.columns.tolist()\n",
        "    ellipsis_values = ['...' for _ in columns]\n",
        "    ellipsis_row = pd.DataFrame([ellipsis_values], columns=columns)\n",
        "    head = df.head(rows)\n",
        "    tail = df.tail(rows)\n",
        "    print( tabulate(pd.concat([head,ellipsis_row,tail]),headers='keys', tablefmt='pretty') )\n",
        "    return 'printed!'\n",
        "\n",
        "def akap_txt_file_writer(df, file_name):\n",
        "  file_path = f'/content/drive/MyDrive/andresrokp/Thesis Juandavid/{file_name}.txt'\n",
        "  columns = df.columns.tolist()\n",
        "  with open(file_path,'w') as txt_file:\n",
        "    txt_file.write(tabulate(df, columns,tablefmt=\"pretty\"))"
      ],
      "metadata": {
        "id": "Mbtem-UOcRCm"
      },
      "execution_count": null,
      "outputs": []
    },
    {
      "cell_type": "markdown",
      "source": [
        "# 1st Model"
      ],
      "metadata": {
        "id": "VGgvFfnLPPgM"
      }
    },
    {
      "cell_type": "code",
      "source": [
        "'''\n",
        "1st model: Wahal, (2004). Sorensen, (2007)\n",
        "\n",
        "Used tables:\n",
        "'df_investors',\n",
        "'df_vico5_BNT'\n",
        "'''\n",
        "\n",
        "# Left JOIN de las tablas\n",
        "# df_vico5_BNT >>InvestorID>> df_investors\n",
        "merged_investments_investors = pd.merge(df_vico5_BNT, df_investors, on='InvestorID', how='left')\n",
        "\n",
        "print('-\\n--\\n-')\n",
        "\n",
        "# CLEANING\n",
        "# dejar solo VCs\n",
        "df_Investments_merge_clean = (\n",
        "    merged_investments_investors\n",
        "    .loc[~((merged_investments_investors['InvestorType'] == 'BA') |\n",
        "           (merged_investments_investors['InvestorType'] == 'Other') |\n",
        "           (merged_investments_investors['InvestorID'].str.contains('missing')))]\n",
        ")\n",
        "df_Investments_merge_clean.info()\n",
        "# conservar sólo columnas de interés\n",
        "col_de_interes = ['InvestorID', 'InvestorName', 'InvestorNation', 'InvestorType']\n",
        "df_Investments_merge_clean = df_Investments_merge_clean[col_de_interes]\n",
        "# verificar\n",
        "print( '\\n<o>\\n df_Investments_merge_clean.info() \\n' )\n",
        "df_Investments_merge_clean.info()\n",
        "\n",
        "# AGRUPAMIENTOS\n",
        "print('----------AGRUPAMIENTOS----------')\n",
        "df_Investments_merge_clean_collapsed = df_Investments_merge_clean.groupby(['InvestorID', 'InvestorName', 'InvestorNation', 'InvestorType']) \\\n",
        "                                        .size() \\\n",
        "                                        .reset_index(name='InvestorCount') \\\n",
        "                                        .sort_values(by='InvestorCount', ascending=False) \\\n",
        "                                        .reset_index(drop=True)\n",
        "print( '\\n<o>\\n info df_Investments_merge_clean_collapsed.info() \\n' )\n",
        "df_Investments_merge_clean_collapsed.info()\n",
        "print( '\\n<o>\\n table df_Investments_merge_clean_collapsed \\n' )\n",
        "akap_pretty_print_df(df_Investments_merge_clean_collapsed, 10)\n",
        "\n",
        "\n",
        "# MOCHADA\n",
        "print(\"\\n<o>\\n info df_Investments_merge_clean_collapsed conteo de apariciones TOP 25% \\n\")\n",
        "df_Investments_merge_clean_collapsed_top25 = df_Investments_merge_clean_collapsed.head(round(len(df_Investments_merge_clean_collapsed)*0.25))\n",
        "akap_pretty_print_df(df_Investments_merge_clean_collapsed_top25, 20)\n",
        "\n"
      ],
      "metadata": {
        "id": "O-aAUC8RM3qT"
      },
      "execution_count": null,
      "outputs": []
    },
    {
      "cell_type": "code",
      "source": [
        "df_Investments_merge_clean_collapsed_top25"
      ],
      "metadata": {
        "id": "drqRFHjphXwI"
      },
      "execution_count": null,
      "outputs": []
    },
    {
      "source": [
        "df_Investments_merge_clean_collapsed_top25.groupby('InvestorNation').size().plot(kind='barh', color=sns.palettes.mpl_palette('Dark2'))\n",
        "plt.gca().spines[['top', 'right',]].set_visible(False)\n",
        "plt.show()\n",
        "print('.')\n",
        "df_Investments_merge_clean_collapsed_top25.groupby('InvestorType').size().plot(kind='barh', color=sns.palettes.mpl_palette('Dark2'))\n",
        "plt.gca().spines[['top', 'right',]].set_visible(False)\n",
        "plt.show()\n",
        "print('.')\n",
        "df_Investments_merge_clean_collapsed_top25['InvestorCount'].plot(kind='line', figsize=(8, 4), title='InvestorCount')\n",
        "plt.gca().spines[['top', 'right']].set_visible(False)\n",
        "plt.show()\n",
        "print('.')"
      ],
      "cell_type": "code",
      "metadata": {
        "id": "yMFDktlmjvto"
      },
      "execution_count": null,
      "outputs": []
    },
    {
      "cell_type": "markdown",
      "source": [
        "# Modelo 4: Hochberg, Ljungqvist, and Lu (2007)."
      ],
      "metadata": {
        "id": "sU6TjF9SO5U1"
      }
    },
    {
      "cell_type": "code",
      "source": [
        "akap_pretty_print_df(df_investments, 5)\n",
        "\n",
        "akap_txt_file_writer(df_investments, 'df_investments')"
      ],
      "metadata": {
        "id": "AObqLJNXO2ux"
      },
      "execution_count": null,
      "outputs": []
    },
    {
      "cell_type": "code",
      "source": [
        "# Check runtime vars\n",
        "# dir() keeps trak of the declared variables in the runtime\n",
        "\n",
        "[var for var in dir() if '_' != var[0]]"
      ],
      "metadata": {
        "id": "8fQhUrfhbo6l"
      },
      "execution_count": null,
      "outputs": []
    }
  ]
}