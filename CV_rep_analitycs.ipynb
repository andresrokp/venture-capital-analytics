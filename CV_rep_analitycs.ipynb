{
  "nbformat": 4,
  "nbformat_minor": 0,
  "metadata": {
    "colab": {
      "provenance": [],
      "toc_visible": true
    },
    "kernelspec": {
      "name": "python3",
      "display_name": "Python 3"
    },
    "language_info": {
      "name": "python"
    }
  },
  "cells": [
    {
      "cell_type": "markdown",
      "source": [
        "# Environment Set Up"
      ],
      "metadata": {
        "id": "tdICsVZ5RISA"
      }
    },
    {
      "cell_type": "code",
      "execution_count": null,
      "metadata": {
        "id": "CR2YaOYNYVrD"
      },
      "outputs": [],
      "source": [
        "# G drive connection\n",
        "# learn: to access a shared file just put a shortcut in mi drive\n",
        "\n",
        "from google.colab import drive\n",
        "drive.mount('/content/drive')"
      ]
    },
    {
      "cell_type": "code",
      "source": [
        "# Libraries import\n",
        "\n",
        "import pandas as pd\n",
        "from tabulate import tabulate\n",
        "from matplotlib import pyplot as plt\n",
        "import seaborn as sns\n",
        "from datetime import datetime"
      ],
      "metadata": {
        "id": "QRPmur-bm2m9"
      },
      "execution_count": null,
      "outputs": []
    },
    {
      "cell_type": "markdown",
      "source": [
        "# Connection test"
      ],
      "metadata": {
        "id": "YxF98MaXRS-t"
      }
    },
    {
      "cell_type": "code",
      "source": [
        "# Verify reading folder\n",
        "\n",
        "!ls '/content/drive/MyDrive/andresrokp/Thesis Juandavid/'"
      ],
      "metadata": {
        "id": "b9HQQm3jeTgh"
      },
      "execution_count": null,
      "outputs": []
    },
    {
      "cell_type": "code",
      "source": [
        "# Hola mundo\n",
        "\n",
        "file_path = '/content/drive/MyDrive/andresrokp/Thesis Juandavid/Companies.dta'\n",
        "df = pd.read_stata(file_path)\n",
        "print('\\n---\\ninfo\\n---')\n",
        "df.info()  # Show column\n",
        "print('\\n---\\ndescribe\\n---')\n",
        "print(df.describe())  # Show very basic stadistics\n",
        "print('\\n---\\nhead\\n---')\n",
        "df.head()  # Show first rows\n"
      ],
      "metadata": {
        "id": "eyJd4dV8e12V"
      },
      "execution_count": null,
      "outputs": []
    },
    {
      "cell_type": "markdown",
      "source": [
        "# Helpers Functions"
      ],
      "metadata": {
        "id": "bw39NIBNcBkk"
      }
    },
    {
      "cell_type": "code",
      "source": [
        "def akap_pretty_print_df(df, rows):\n",
        "\n",
        "    rows_head = rows\n",
        "    rows_tail = rows\n",
        "\n",
        "    if rows < 0:\n",
        "      rows_head = -rows * 10\n",
        "      rows_tail = 0\n",
        "\n",
        "    columns = df.columns.tolist()\n",
        "    ellipsis_values = ['...' for _ in columns]\n",
        "    ellipsis_row = pd.DataFrame([ellipsis_values], columns=columns)\n",
        "    head = df.head(rows_head)\n",
        "    tail = df.tail(rows_tail)\n",
        "    payload = tabulate(pd.concat([head,ellipsis_row,tail]),headers='keys', tablefmt='pretty')\n",
        "    print( payload )\n",
        "    return payload\n",
        "\n",
        "dirPath = '/content/drive/MyDrive/andresrokp/Thesis Juandavid/archivos/'\n",
        "\n",
        "def akap_csv_file_writer(df, file_name):\n",
        "    file_path = f'{dirPath}{file_name}.csv'\n",
        "    df.to_csv(file_path, index=False)\n",
        "\n",
        "def akap_txt_file_writer(df, file_name, rows):\n",
        "  file_path = f'/content/drive/MyDrive/andresrokp/Thesis Juandavid/{file_name}.txt'\n",
        "  columns = df.columns.tolist()\n",
        "  with open(file_path,'w') as txt_file:\n",
        "    txt_file.write(akap_pretty_print_df(df, rows))"
      ],
      "metadata": {
        "id": "Mbtem-UOcRCm"
      },
      "execution_count": null,
      "outputs": []
    },
    {
      "cell_type": "markdown",
      "source": [
        "# Dataset loading"
      ],
      "metadata": {
        "id": "0wTT-YBRRfG1"
      }
    },
    {
      "cell_type": "code",
      "source": [
        "# File paths\n",
        "path_companies_file = '/content/drive/MyDrive/andresrokp/Thesis Juandavid/Companies.dta'\n",
        "path_ipo_m_a_file = '/content/drive/MyDrive/andresrokp/Thesis Juandavid/IPO_M&A.dta'\n",
        "path_investments_file = '/content/drive/MyDrive/andresrokp/Thesis Juandavid/Investments.dta'\n",
        "path_investors_file = '/content/drive/MyDrive/andresrokp/Thesis Juandavid/Investors.dta'\n",
        "path_vico = '/content/drive/MyDrive/andresrokp/Thesis Juandavid/VICO5.0_Investors_Reputation_withOldIDs.dta'\n",
        "\n",
        "# Read Companies data\n",
        "print(\"Reading Companies data...\")\n",
        "df_companies = pd.read_stata(path_companies_file)\n",
        "print(\"\\nCompanies Data Info:\")\n",
        "df_companies.info()\n",
        "akap_pretty_print_df(df_companies, 5)\n",
        "akap_csv_file_writer(df_companies, 'df_companies')\n",
        "# csv write\n",
        "df_companies_clean_by_country \\\n",
        "  = df_companies.groupby(['CompanyNation']) \\\n",
        "                      .size() \\\n",
        "                      .reset_index(name='CompaniesNationCount') \\\n",
        "                      .sort_values(by='CompaniesNationCount', ascending=False) \\\n",
        "                      .reset_index(drop=True)\n",
        "akap_csv_file_writer(df_companies_clean_by_country, 'df_companies_clean_by_country')\n",
        "df_companies_clean_by_industry \\\n",
        "  = df_companies.groupby(['NACERev2corcodesdes']) \\\n",
        "                      .size() \\\n",
        "                      .reset_index(name='CompanyIndustryCount') \\\n",
        "                      .sort_values(by='CompanyIndustryCount', ascending=False) \\\n",
        "                      .reset_index(drop=True)\n",
        "akap_csv_file_writer(df_companies_clean_by_industry, 'df_companies_clean_by_industry')\n",
        "\n",
        "# Read IPO M&A data\n",
        "print(\"\\nReading IPO M&A data...\")\n",
        "df_ipo_ma = pd.read_stata(path_ipo_m_a_file)\n",
        "df_ipo_ma['IPODealvaluethEUR'] = pd.to_numeric(df_ipo_ma['IPODealvaluethEUR'], errors='coerce')\n",
        "print(\"\\nIPO M&A Data Info:\")\n",
        "print('unique IPO_dummy: ', df_ipo_ma['IPO_dummy'].unique())\n",
        "print('count IPO_dummy = 1: ', len(df_ipo_ma[df_ipo_ma['IPO_dummy'] == 1]))\n",
        "print('count IPO_dummy = 0: ', len(df_ipo_ma[df_ipo_ma['IPO_dummy'] == 0]))\n",
        "df_ipo_ma.info()\n",
        "akap_csv_file_writer(df_ipo_ma, 'df_ipo_ma')\n",
        "akap_pretty_print_df(df_ipo_ma, 5)\n",
        "\n",
        "# Read Investors data\n",
        "print(\"\\nReading Investors data...\")\n",
        "df_investors = pd.read_stata(path_investors_file)\n",
        "# cleaning dejar solo VCs\n",
        "print(\"\\Cleaning Investors data...\")\n",
        "df_investors_clean = df_investors[df_investors['InvestorType'] != 'BA']\n",
        "df_investors_clean = df_investors_clean[df_investors_clean['InvestorType'] != 'Other']\n",
        "print(\"\\nInvestors Clean Data Info:\")\n",
        "df_investors_clean.info()\n",
        "akap_pretty_print_df(df_investors_clean, 5)\n",
        "akap_csv_file_writer(df_investors_clean, 'df_investors_clean')\n",
        "# csv write\n",
        "df_investors_clean_by_country \\\n",
        "  = df_investors_clean.groupby(['InvestorNation']) \\\n",
        "                      .size() \\\n",
        "                      .reset_index(name='InvestorNationCount') \\\n",
        "                      .sort_values(by='InvestorNationCount', ascending=False) \\\n",
        "                      .reset_index(drop=True)\n",
        "akap_csv_file_writer(df_investors_clean_by_country, 'df_investors_clean_by_country')\n",
        "\n",
        "# Read Investments data\n",
        "print(\"\\nReading Investments data...\")\n",
        "df_investments = pd.read_stata(path_investments_file)\n",
        "df_investments_columns = df_investments.columns.tolist()\n",
        "df_investments = pd.merge(df_investments, df_investors, on='InvestorID', how='left')\n",
        "# cleaning\n",
        "print(\"\\nCleaning Investments data...\")\n",
        "df_investments_merge_clean = df_investments[df_investments['InvestorType'] != 'BA']\n",
        "df_investments_merge_clean = df_investments_merge_clean[df_investments_merge_clean['InvestorType'] != 'Other']\n",
        "df_investments_merge_clean = df_investments_merge_clean[~df_investments_merge_clean['InvestorID'].str.contains('missing')]\n",
        "df_investments_clean = df_investments_merge_clean[df_investments_columns]\n",
        "# output\n",
        "print(\"\\nInvestments Clean Data Info:\")\n",
        "print('uniques: ', len(df_investments_clean['CompanyID'].unique()))\n",
        "df_investments_clean.info()\n",
        "akap_pretty_print_df(df_investments_clean, 5)\n",
        "akap_csv_file_writer(df_investments_clean, 'df_investments_clean')\n",
        "\n",
        "# Read VICO5 data\n",
        "# print(\"\\nReading vico5_BNT data...\")\n",
        "# df_vico5_BNT = pd.read_stata(path_vico)\n",
        "# print(\"\\nVICO5 Data Info:\")\n",
        "# df_vico5_BNT.info()\n",
        "# print(\"Number of Rows in vico5_BNT Data:\", len(df_vico5_BNT))"
      ],
      "metadata": {
        "id": "n_DSo757TzBp"
      },
      "execution_count": null,
      "outputs": []
    },
    {
      "cell_type": "markdown",
      "source": [
        "# Interesting table builder"
      ],
      "metadata": {
        "id": "VGgvFfnLPPgM"
      }
    },
    {
      "cell_type": "code",
      "source": [
        "'''\n",
        "\n",
        "'''\n",
        "\n",
        "# MERGING\n",
        "print('\\n\\n\\n----------MERGING----------')\n",
        "# df_investments_clean >>InvestorID>> df_investors\n",
        "df_merge_investments_investors = pd.merge(df_investments_clean, \\\n",
        "                                          df_investors_clean, \\\n",
        "                                          on='InvestorID', \\\n",
        "                                          how='left')\n",
        "print( '\\n<o>\\n info df_merge_investments_investors.info() \\n' )\n",
        "df_merge_investments_investors.info()\n",
        "akap_pretty_print_df(df_merge_investments_investors, 10)\n",
        "# >> companies ON CompanyID\n",
        "df_merge_investments_investors_companies = pd.merge(df_merge_investments_investors, \\\n",
        "                                           df_companies, \\\n",
        "                                           on='CompanyID', \\\n",
        "                                           how='left')\n",
        "print( '\\n<o>\\n info df_merge_investments_investors_companies.info() \\n' )\n",
        "df_merge_investments_investors_companies.info()\n",
        "akap_pretty_print_df(df_merge_investments_investors_companies, 10)\n",
        "# >> aipió má\n",
        "df_merge_investments_investors_companies_ipoma = pd.merge(df_merge_investments_investors_companies, \\\n",
        "                                                 df_ipo_ma, \\\n",
        "                                                 on='CompanyID', \\\n",
        "                                                 how='left')\n",
        "print( '\\n<o>\\n info df_merge_investments_investors_companies_ipoma.info() \\n' )\n",
        "df_merge_investments_investors_companies_ipoma.info()\n",
        "akap_pretty_print_df(df_merge_investments_investors_companies_ipoma, 10)\n",
        "\n",
        "\n",
        "\n",
        "# LEAN df // STANDARIZE var NAME\n",
        "print('\\n\\n\\n----------LEAN df // STANDARIZE var NAME----------')\n",
        "df_interesante_1 = df_merge_investments_investors[['CompanyID','InvestorID', 'InvestorName', 'InvestorNation', 'InvestorType','TotalEquityInvested_round_thEUR']]\n",
        "print( '\\n<o>\\n info df_interesante_1.info() \\n' )\n",
        "df_interesante_1.info()\n",
        "akap_txt_file_writer(df_interesante_1, 'df_merge_investments_investors', 10)\n",
        "\n",
        "df_interesante_2 = df_merge_investments_investors_companies[['InvestmentDate','CompanyID','CompanyFUAName','NACERev2corcodesdes','FirstInvestmentYear','CompanyNation','TotalEquityInvested_round_thEUR','InvestorID','InvestorName','InvestorType','InvestorNation']]\n",
        "print( '\\n<o>\\n info df_interesante_2.info() \\n' )\n",
        "df_interesante_2.info()\n",
        "akap_txt_file_writer(df_interesante_2, 'df_merge_investments_investors_companies', 10)\n",
        "\n",
        "df_interesante_3 = df_merge_investments_investors_companies_ipoma[['InvestmentDate','CompanyID','CompanyFUAName','NACERev2corcodesdes','FirstInvestmentYear','CompanyNation','TotalEquityInvested_round_thEUR','InvestorID','InvestorName','InvestorType','InvestorNation','IPO_dummy','IPODate','IPODealvaluethEUR','Acquisition_dummy','AcqDate','AcqDealvaluethEUR']]\n",
        "print( '\\n<o>\\n info df_interesante_3.info() \\n' )\n",
        "df_interesante_3.info()\n",
        "akap_txt_file_writer(df_interesante_3, 'df_merge_investments_investors_companies_ipoma', 10)\n",
        "\n",
        "# readaptacion\n",
        "# df_interesante = df_interesante_2\n",
        "\n",
        "# AGRUPAMIENTOS\n",
        "# print('\\n\\n\\n----------AGRUPAMIENTOS----------')\n",
        "# df_interesante_grouped = df_interesante.groupby(['InvestorID', 'InvestorName', 'InvestorNation', 'InvestorType']) \\\n",
        "#                                          .size() \\\n",
        "#                                          .reset_index(name='InvestorCount') \\\n",
        "#                                          .sort_values(by='InvestorCount', ascending=False) \\\n",
        "#                                          .reset_index(drop=True)\n",
        "# print( '\\n<o>\\n info df_interesante_1_grouped.info() \\n' )\n",
        "# df_interesante_grouped.info()\n",
        "# akap_pretty_print_df(df_interesante_grouped, 10)\n",
        "\n",
        "\n",
        "# MOCHADA TOP 25\n",
        "# print('\\n\\n\\n----------MOCHADA TOP 25----------')\n",
        "# print(\"\\n<o>\\n info df_merge_investments_investors_grouped_top25 conteo de apariciones TOP 25% \\n\")\n",
        "# df_interesante_grouped_top25 = df_interesante_grouped.head(round(len(df_interesante_grouped)*0.25))\n",
        "# akap_pretty_print_df(df_interesante_grouped_top25, 10)"
      ],
      "metadata": {
        "id": "O-aAUC8RM3qT"
      },
      "execution_count": null,
      "outputs": []
    },
    {
      "source": [
        "# df_interesante_1_grouped.groupby('InvestorNation').size().plot(kind='barh', color=sns.palettes.mpl_palette('Dark2'))\n",
        "# plt.gca().spines[['top', 'right',]].set_visible(False)\n",
        "# plt.show()\n",
        "# print('.')\n",
        "# df_interesante_1_grouped.groupby('InvestorType').size().plot(kind='barh', color=sns.palettes.mpl_palette('Dark2'))\n",
        "# plt.gca().spines[['top', 'right',]].set_visible(False)\n",
        "# plt.show()\n",
        "# print('.')\n",
        "# df_interesante_1_grouped['InvestorCount'].plot(kind='line', figsize=(8, 4), title='InvestorCount')\n",
        "# plt.gca().spines[['top', 'right']].set_visible(False)\n",
        "# plt.show()\n",
        "# print('.')"
      ],
      "cell_type": "code",
      "metadata": {
        "id": "yMFDktlmjvto"
      },
      "execution_count": null,
      "outputs": []
    },
    {
      "cell_type": "markdown",
      "source": [
        "# Modelo IPOs"
      ],
      "metadata": {
        "id": "sU6TjF9SO5U1"
      }
    },
    {
      "cell_type": "code",
      "source": [
        "'''\n",
        " #   Column                           Non-Null Count  Dtype\n",
        "---  ------                           --------------  -----\n",
        " 0   InvestmentDate                   71077 non-null  datetime64[ns]\n",
        " 1   CompanyID                        71077 non-null  object\n",
        " 2   CompanyFUAName                   71077 non-null  object\n",
        " 3   NACERev2corcodesdes              71077 non-null  object\n",
        " 4   FirstInvestmentYear              71077 non-null  float32\n",
        " 5   CompanyNation                    71077 non-null  object\n",
        " 6   TotalEquityInvested_round_thEUR  53320 non-null  float64\n",
        " 7   InvestorID                       71077 non-null  object\n",
        " 8   InvestorName                     71077 non-null  object\n",
        " 9   InvestorType                     71077 non-null  object\n",
        " 10  InvestorNation                   71077 non-null  object\n",
        " 11  IPO_dummy                        10064 non-null  float32\n",
        " 12  IPODate                          2344 non-null   datetime64[ns]\n",
        " 13  IPODealvaluethEUR                10064 non-null  object\n",
        " 14  Acquisition_dummy                10064 non-null  float32\n",
        " 15  AcqDate                          8278 non-null   datetime64[ns]\n",
        " 16  AcqDealvaluethEUR                10064 non-null  object\n",
        " '''\n",
        "\n",
        "df_modelo_4 = df_interesante_3\n",
        "\n",
        "# LEAVE ONLY IPO 2014-2018\n",
        "IPO_5ann = df_modelo_4[df_modelo_4['IPO_dummy'] == 1]\n",
        "IPO_5ann = IPO_5ann[(IPO_5ann['IPODate'].dt.year >= 2013) & (IPO_5ann['IPODate'].dt.year <= 2018)]\n",
        "print( '\\n<o>\\n info IPO_5ann.info() \\n' )\n",
        "print('uniques CompanyID: ', len(IPO_5ann['CompanyID'].unique()))\n",
        "IPO_5ann.info()\n",
        "akap_pretty_print_df(IPO_5ann, 20)\n",
        "\n",
        "\n",
        "print('\\n\\n\\n----------AGRUPAMIENTOS----------')\n",
        "\n",
        "# by investor\n",
        "IPO_5ann_grouped_by_investors \\\n",
        "  = IPO_5ann.groupby(['InvestorID', 'InvestorName']) \\\n",
        "                          .size() \\\n",
        "                          .reset_index(name='InvestorCount') \\\n",
        "                          .sort_values(by='InvestorCount', ascending=False) \\\n",
        "                          .reset_index(drop=True)\n",
        "#print\n",
        "print( '\\n<o>\\n info IPO_5ann_grouped_by_investors.info() \\n' )\n",
        "IPO_5ann_grouped_by_investors.info()\n",
        "akap_pretty_print_df(IPO_5ann_grouped_by_investors, -5)\n",
        "akap_csv_file_writer(IPO_5ann_grouped_by_investors, 'IPO_5ann_grouped_by_investors')\n",
        "# plot\n",
        "IPO_5ann_grouped_by_investors['InvestorCount'].plot(kind='line', figsize=(8, 4), title='InvestorCount')\n",
        "plt.gca().spines[['top', 'right']].set_visible(False)\n",
        "plt.savefig('IPO_5ann_grouped_by_investors.png')\n",
        "plt.show()\n",
        "\n",
        "# by company\n",
        "IPO_5ann_grouped_by_company \\\n",
        "  = IPO_5ann.groupby(['CompanyID']) \\\n",
        "                          .size() \\\n",
        "                          .reset_index(name='CompanyCount') \\\n",
        "                          .sort_values(by='CompanyCount', ascending=False) \\\n",
        "                          .reset_index(drop=True)\n",
        "# print\n",
        "print( '\\n<o>\\n info IPO_5ann_grouped_by_company.info() \\n' )\n",
        "IPO_5ann_grouped_by_company.info()\n",
        "akap_pretty_print_df(IPO_5ann_grouped_by_company, 10)\n",
        "akap_csv_file_writer(IPO_5ann_grouped_by_company, 'IPO_5ann_grouped_by_company')\n",
        "# plot\n",
        "IPO_5ann_grouped_by_company['CompanyCount'].plot(kind='line', figsize=(8, 4), title='CompanyCount')\n",
        "plt.gca().spines[['top', 'right']].set_visible(False)\n",
        "plt.savefig(f'{dirPath}IPO_5ann_grouped_by_company.png')\n",
        "plt.show()\n",
        "\n",
        "# investor - company\n",
        "#['InvestorName', 'InvestorNation', 'InvestorType', 'CompanyFUAName', 'CompanyNation', 'NACERev2corcodesdes']\n",
        "IPO_5ann_grouped_by_investors_and_company \\\n",
        "  = IPO_5ann.groupby(['InvestorName','CompanyID']) \\\n",
        "                          .size() \\\n",
        "                          .reset_index(name='InvestorCompanyCount') \\\n",
        "                          .sort_values(by='InvestorCompanyCount', ascending=False) \\\n",
        "                          .reset_index(drop=True)\n",
        "# print\n",
        "print( '\\n<o>\\n info IPO_5ann_grouped_by_investors_and_company.info() \\n' )\n",
        "IPO_5ann_grouped_by_investors_and_company.info()\n",
        "akap_pretty_print_df(IPO_5ann_grouped_by_investors_and_company, 10)\n",
        "akap_csv_file_writer(IPO_5ann_grouped_by_investors_and_company, 'IPO_5ann_grouped_by_investors_and_company')\n",
        "# plot\n",
        "IPO_5ann_grouped_by_investors_and_company['InvestorCompanyCount'].plot(kind='line', figsize=(8, 4), title='InvestorCompanyCount')\n",
        "plt.gca().spines[['top', 'right']].set_visible(False)\n",
        "plt.savefig(f'{dirPath}IPO_5ann_grouped_by_investors_and_company.png')\n",
        "plt.show()\n",
        "\n",
        "IPO_5ann_grouped_by_investorsType \\\n",
        "  = IPO_5ann.groupby(['InvestorType']) \\\n",
        "                          .size() \\\n",
        "                          .reset_index(name='InvestorCount') \\\n",
        "                          .sort_values(by='InvestorCount', ascending=False) \\\n",
        "                          .reset_index(drop=True)\n",
        "print( '\\n<o>\\n info IPO_5ann_grouped_by_investorsType.info() \\n' )\n",
        "IPO_5ann_grouped_by_investorsType.info()\n",
        "akap_pretty_print_df(IPO_5ann_grouped_by_investorsType, -1)\n",
        "\n",
        "# get real numbers for IPODealvaluethEUR\n",
        "IPO_5ann_DealEUR_sum_of_investors \\\n",
        "  = pd.merge(IPO_5ann_grouped_by_investors_and_company, \\\n",
        "              df_ipo_ma[['CompanyID','IPODealvaluethEUR']], \\\n",
        "              on='CompanyID', \\\n",
        "              how='left')\n",
        "IPO_5ann_DealEUR_sum_of_investors \\\n",
        "  = IPO_5ann_DealEUR_sum_of_investors.groupby('InvestorName').agg({\n",
        "                                                      'IPODealvaluethEUR': 'sum'\n",
        "                                                      #'IPO_dummy': 'sum'\n",
        "                                                  }) \\\n",
        "                                                  .reset_index() \\\n",
        "                                                  .sort_values(by='IPODealvaluethEUR', ascending=False) \\\n",
        "                                                  .reset_index(drop=True)\n",
        "# print\n",
        "print( '\\n<o>\\n info IPO_5ann_DealEUR_sum_of_investors.info() \\n' )\n",
        "IPO_5ann_DealEUR_sum_of_investors.info()\n",
        "akap_pretty_print_df(IPO_5ann_DealEUR_sum_of_investors, -6)\n",
        "akap_csv_file_writer(IPO_5ann_DealEUR_sum_of_investors, 'IPO_5ann_DealEUR_sum_of_investors')\n",
        "print( '\\n<o>\\n info $ toal_investments \\n' )\n",
        "total_investments = IPO_5ann_DealEUR_sum_of_investors['IPODealvaluethEUR'].sum();\n",
        "print(total_investments)\n",
        "# plot\n",
        "IPO_5ann_DealEUR_sum_of_investors['IPODealvaluethEUR'].plot(kind='line', figsize=(8, 4), title='IPODealvaluethEUR')\n",
        "plt.gca().spines[['top', 'right']].set_visible(False)\n",
        "plt.savefig(f'{dirPath}IPO_5ann_DealEUR_sum_of_investors.png')\n",
        "plt.show()\n",
        "\n",
        "\n",
        "print( '\\n<o>\\n info IPO_5ann_DealEUR_sum_of_investors_NORMALIZED.info() \\n' )\n",
        "IPO_5ann_DealEUR_sum_of_investors['IPODealvaluethEUR_norm'] = IPO_5ann_DealEUR_sum_of_investors['IPODealvaluethEUR'] / total_investments\n",
        "IPO_5ann_DealEUR_sum_of_investors.info()\n",
        "akap_pretty_print_df(IPO_5ann_DealEUR_sum_of_investors, -6)\n",
        "akap_csv_file_writer(IPO_5ann_DealEUR_sum_of_investors, 'IPO_5ann_DealEUR_sum_of_investors_NORMALIZED')\n",
        "# plot\n",
        "IPO_5ann_DealEUR_sum_of_investors['IPODealvaluethEUR_norm'].plot(kind='line', figsize=(8, 4), title='IPODealvaluethEUR NORM')\n",
        "plt.gca().spines[['top', 'right']].set_visible(False)\n",
        "plt.savefig(f'{dirPath}IPO_5ann_DealEUR_sum_of_investors_NORMALIZED.png')\n",
        "plt.show()\n",
        "\n"
      ],
      "metadata": {
        "id": "AObqLJNXO2ux"
      },
      "execution_count": null,
      "outputs": []
    },
    {
      "cell_type": "markdown",
      "source": [
        "# Modelo Cuenta simple"
      ],
      "metadata": {
        "id": "yYDV781pg7PU"
      }
    },
    {
      "cell_type": "code",
      "source": [
        "df_modelo_4 = df_interesante_3\n",
        "\n",
        "#5chicos\n",
        "# df_modelo_4 = df_modelo_4[(df_modelo_4['InvestmentDate'].dt.year >= 2013) & (df_modelo_4['InvestmentDate'].dt.year <= 2018)]\n",
        "\n",
        "simple_investor_count = df_modelo_4['InvestorName'].value_counts().reset_index()\n",
        "simple_investor_count.columns = ['InvestorName', 'InvestorCount']\n",
        "# output\n",
        "akap_pretty_print_df(simple_investor_count, 50)\n",
        "akap_csv_file_writer(simple_investor_count, 'simple_investor_count')\n",
        "\n",
        "\n",
        "simple_investor_count['InvestorCount'].describe()\n",
        "\n"
      ],
      "metadata": {
        "id": "FKHZ3fcxhUK8"
      },
      "execution_count": null,
      "outputs": []
    },
    {
      "cell_type": "markdown",
      "source": [
        "# Modelo Age"
      ],
      "metadata": {
        "id": "vl6LwBl0E3Ij"
      }
    },
    {
      "cell_type": "code",
      "source": [
        "df_modelo_age = df_interesante_3\n",
        "\n",
        "# df_modelo_age = df_modelo_age[(df_modelo_age['InvestmentDate'].dt.year >= 2013) & (df_modelo_age['InvestmentDate'].dt.year <= 2018)]\n",
        "\n",
        "\n",
        "# Assuming 'InvestmentDate' is the correct column name representing the date of each investment\n",
        "simple_investor_age = df_modelo_age.groupby('InvestorName')['InvestmentDate'].min().reset_index()\n",
        "simple_investor_age.columns = ['InvestorName', 'EarliestInvestmentDate']\n",
        "# Calculate the duration between the earliest investment date and 2018\n",
        "reference_date = pd.to_datetime('2018-12-31')\n",
        "simple_investor_age['YearsSinceFirstInvestment'] = (\n",
        "    (reference_date - simple_investor_age['EarliestInvestmentDate']).dt.days / 365.25\n",
        ")\n",
        "simple_investor_age = simple_investor_age.sort_values(by=\"YearsSinceFirstInvestment\", ascending=False)\n",
        "# output\n",
        "akap_pretty_print_df(simple_investor_age, 50)\n",
        "akap_csv_file_writer(simple_investor_age, 'simple_investor_age')\n",
        "\n",
        "simple_investor_age['YearsSinceFirstInvestment'].describe()"
      ],
      "metadata": {
        "id": "y08JA4iGE67s"
      },
      "execution_count": null,
      "outputs": []
    },
    {
      "cell_type": "markdown",
      "source": [
        "# Modelo Syndication"
      ],
      "metadata": {
        "id": "VfwNIxEEEp7x"
      }
    },
    {
      "cell_type": "code",
      "source": [
        "df_modelo_syndication = df_interesante_3\n",
        "df_modelo_syndication = df_modelo_syndication[(df_modelo_syndication['InvestmentDate'].dt.year >= 2013) & (df_modelo_syndication['InvestmentDate'].dt.year <= 2018)]\n",
        "\n",
        "print( '\\n<o>\\n info df_modelo_syndication.info() \\n' )\n",
        "df_modelo_syndication.info()\n",
        "print('\"Bpi Groupe\" count : ', df_modelo_syndication['InvestorName'].value_counts().get(\"Bpi Groupe\", 0))\n",
        "print('\"Elevencooperatief Ua\" count : ', df_modelo_syndication['InvestorName'].value_counts().get(\"Elevencooperatief Ua\", 0))\n",
        "print('\"Elaia Partners\" count : ', df_modelo_syndication['InvestorName'].value_counts().get(\"Elaia Partners\", 0))\n",
        "akap_pretty_print_df(df_modelo_syndication,-2)\n",
        "\n",
        "# Step 1: parejas investor-company únicas\n",
        "unique_pairs_inv_comp = df_modelo_syndication[['InvestorName', 'CompanyID']].drop_duplicates()\n",
        "print('\"Bpi Groupe\" count : ', unique_pairs_inv_comp['InvestorName'].value_counts().get(\"Bpi Groupe\", 0))\n",
        "print('\"Elevencooperatief Ua\" count : ', unique_pairs_inv_comp['InvestorName'].value_counts().get(\"Elevencooperatief Ua\", 0))\n",
        "print('\"Elaia Partners\" count : ', unique_pairs_inv_comp['InvestorName'].value_counts().get(\"Elaia Partners\", 0))\n",
        "print( '\\n<o>\\n info unique_pairs_inv_comp.info() \\n' )\n",
        "unique_pairs_inv_comp.info()\n",
        "akap_pretty_print_df(unique_pairs_inv_comp,-2)\n",
        "\n",
        "# agrupar por compañia y número de inversores\n",
        "grouped_by_company = unique_pairs_inv_comp.groupby('CompanyID')['InvestorName'] \\\n",
        "                     .size() \\\n",
        "                     .reset_index(name='InvestorsCountInCompany') \\\n",
        "                     .sort_values(by='InvestorsCountInCompany', ascending=False) \\\n",
        "                     .reset_index(drop=True)\n",
        "# quedarse solo con los que tengan a más de 1\n",
        "grouped_by_company = grouped_by_company[grouped_by_company['InvestorsCountInCompany'] > 1]\n",
        "print( '\\n<o>\\n info grouped_by_company.info() \\n' )\n",
        "grouped_by_company.info()\n",
        "akap_pretty_print_df(grouped_by_company,20)\n",
        "\n",
        "# dejar solo los pairs cuya company genera syndication\n",
        "only_pairs_of_syndicalizing_companies = unique_pairs_inv_comp.merge(grouped_by_company, on='CompanyID', how='inner')[['InvestorName','CompanyID']]\n",
        "print( '\\n<o>\\n info only_pairs_of_syndicalizing_companies.info() \\n' )\n",
        "only_pairs_of_syndicalizing_companies.info()\n",
        "akap_pretty_print_df(only_pairs_of_syndicalizing_companies,20)\n",
        "\n",
        "# contar cuantas veces cada Investor tiene Company que generó syndication\n",
        "investors_syndication_count = unique_pairs_inv_comp.groupby('InvestorName')['InvestorName'] \\\n",
        "                                .size() \\\n",
        "                                .reset_index(name='InvestorsSyndicationCount') \\\n",
        "                                .sort_values(by='InvestorsSyndicationCount', ascending=False) \\\n",
        "                                .reset_index(drop=True)\n",
        "print( '\\n<o>\\n info investors_syndication_count.info() \\n' )\n",
        "investors_syndication_count.info()\n",
        "akap_pretty_print_df(investors_syndication_count,20)\n",
        "\n",
        "akap_csv_file_writer(investors_syndication_count,'investors_syndication_count_5chicorios_noIPO')\n"
      ],
      "metadata": {
        "id": "FxruwmS1Estx"
      },
      "execution_count": null,
      "outputs": []
    },
    {
      "cell_type": "markdown",
      "source": [
        "# Otros"
      ],
      "metadata": {
        "id": "-epujBd-mzDv"
      }
    },
    {
      "cell_type": "code",
      "source": [
        "# Check runtime vars\n",
        "# dir() keeps trak of the declared variables in the runtime\n",
        "\n",
        "[var for var in dir() if '_' != var[0]]"
      ],
      "metadata": {
        "id": "8fQhUrfhbo6l"
      },
      "execution_count": null,
      "outputs": []
    },
    {
      "cell_type": "code",
      "source": [
        "investor_count = df_investments['InvestorID'].value_counts().get('VCInvestor002335', 0)\n",
        "investor_count"
      ],
      "metadata": {
        "id": "1ouPfFN4m18Y"
      },
      "execution_count": null,
      "outputs": []
    }
  ]
}